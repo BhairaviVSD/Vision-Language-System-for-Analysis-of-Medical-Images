{
 "cells": [
  {
   "cell_type": "code",
   "execution_count": null,
   "id": "2bb7319e-180b-45bb-907f-af551dadcf11",
   "metadata": {},
   "outputs": [],
   "source": [
    "import pandas as pd\n",
    "import numpy as np\n",
    "from transformers import pipeline"
   ]
  },
  {
   "cell_type": "code",
   "execution_count": null,
   "id": "a2df7c93-c028-47ba-bec7-8ff5cf818322",
   "metadata": {},
   "outputs": [],
   "source": [
    "df = pd.read_csv('reports_with_image_paths.csv')"
   ]
  },
  {
   "cell_type": "code",
   "execution_count": null,
   "id": "5476b157-5231-44e1-a89e-98a65517ce73",
   "metadata": {},
   "outputs": [],
   "source": [
    "df.drop(columns = ['Unnamed: 0'], inplace = True)"
   ]
  },
  {
   "cell_type": "code",
   "execution_count": null,
   "id": "f34c744d-3993-41ab-803f-8e232f64f6ce",
   "metadata": {},
   "outputs": [],
   "source": [
    "df['merged_text'] = str(df['technique'])+str(df['comparison'])+str(df['findings'])+str(df['impression'])"
   ]
  },
  {
   "cell_type": "code",
   "execution_count": null,
   "id": "7310bde3-ea6c-4042-82c8-d00a78e1206a",
   "metadata": {},
   "outputs": [],
   "source": [
    "pipe = pipeline(\"text2text-generation\", model=\"valhalla/t5-small-qa-qg-hl\", device = 'cuda')"
   ]
  },
  {
   "cell_type": "code",
   "execution_count": null,
   "id": "bd95db01-a344-4dda-bdfa-6851d0e561b0",
   "metadata": {},
   "outputs": [],
   "source": [
    "def clean_text(text):\n",
    "    if pd.isna(text):\n",
    "        return np.nan\n",
    "    text = text.strip()  # Remove leading/trailing spaces\n",
    "    text = text.replace('___', '')  # Replace placeholders\n",
    "    text = text.replace('None.', '')  # Replace 'None.' with empty string\n",
    "    text = text.replace('None', '')  # Replace 'None' with empty string\n",
    "    text = text if text else np.nan  # Convert empty strings to NaN\n",
    "    return text\n",
    "\n",
    "# Apply the cleaning function to each column\n",
    "for col in ['merged_text']:\n",
    "    df[col] = df[col].apply(clean_text)\n",
    "\n",
    "# Drop rows where all columns are NaN\n",
    "df_cleaned = df.dropna(how='all')\n",
    "\n",
    "# Optional: Standardize text by converting to lowercase\n",
    "df_cleaned = df_cleaned.apply(lambda x: x.str.lower() if x.dtype == \"object\" else x)\n"
   ]
  },
  {
   "cell_type": "code",
   "execution_count": null,
   "id": "ca2c59b0-5dfe-4879-91bc-e33f7d6b7657",
   "metadata": {},
   "outputs": [],
   "source": [
    "df_cleaned.columns"
   ]
  },
  {
   "cell_type": "code",
   "execution_count": null,
   "id": "e6dcaebb-0747-43af-ad06-b0c31dce7554",
   "metadata": {},
   "outputs": [],
   "source": [
    "QA = {'Question':[],'Answer': [], 'Path': []}\n",
    "\n",
    "for i in range(len(df_cleaned)):\n",
    "    text = df_cleaned[i]['merged_text']\n",
    "    path = df_cleaned[i]['path']\n",
    "    resp = pipe(text)\n",
    "    QA['Question'].append(resp['Question'])\n",
    "    QA['Answer'].append(resp['Answer'])\n",
    "    QA['Path'].append(path)\n",
    "    "
   ]
  },
  {
   "cell_type": "code",
   "execution_count": null,
   "id": "ca49aa15-7bce-40ab-80de-a7363bcb2c38",
   "metadata": {},
   "outputs": [],
   "source": [
    "QA.to_csv('Question-Corpus.csv')"
   ]
  }
 ],
 "metadata": {
  "kernelspec": {
   "display_name": "Python 3 (ipykernel)",
   "language": "python",
   "name": "python3"
  },
  "language_info": {
   "codemirror_mode": {
    "name": "ipython",
    "version": 3
   },
   "file_extension": ".py",
   "mimetype": "text/x-python",
   "name": "python",
   "nbconvert_exporter": "python",
   "pygments_lexer": "ipython3",
   "version": "3.11.7"
  }
 },
 "nbformat": 4,
 "nbformat_minor": 5
}
