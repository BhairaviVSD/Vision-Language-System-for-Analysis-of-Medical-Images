{
 "cells": [
  {
   "cell_type": "code",
   "execution_count": null,
   "id": "9271219d-92eb-4074-90a1-2769ed2571e3",
   "metadata": {},
   "outputs": [],
   "source": [
    "import torch\n",
    "from transformers import ViltProcessor, ViltForQuestionAnswering\n",
    "from PIL import Image"
   ]
  },
  {
   "cell_type": "code",
   "execution_count": null,
   "id": "2ba9f77d-8f51-497e-a4d3-906aa98a84fc",
   "metadata": {},
   "outputs": [],
   "source": [
    "class ViLTInference:\n",
    "    def __init__(self, model_path, device=None):\n",
    "        # Load the processor and model\n",
    "        self.processor = ViltProcessor.from_pretrained(model_path)\n",
    "        self.model = ViltForQuestionAnswering.from_pretrained(model_path)\n",
    "        \n",
    "        # Set the device\n",
    "        if device:\n",
    "            self.device = torch.device(device)\n",
    "        else:\n",
    "            self.device = torch.device(\"cuda\" if torch.cuda.is_available() else \"cpu\")\n",
    "        \n",
    "        self.model.to(self.device)\n",
    "        self.model.eval()\n",
    "\n",
    "    def predict(self, image_path, question):\n",
    "        try:\n",
    "            # Load and preprocess the image\n",
    "            image = Image.open(image_path).convert(\"RGB\")\n",
    "\n",
    "            # Process the image and question\n",
    "            inputs = self.processor(images=image, text=question, return_tensors=\"pt\").to(self.device)\n",
    "\n",
    "            # Forward pass\n",
    "            with torch.no_grad():\n",
    "                outputs = self.model(**inputs)\n",
    "\n",
    "            # Get the predicted class index\n",
    "            predicted_class_idx = outputs.logits.argmax(-1).item()\n",
    "\n",
    "            # Map predicted class index to 'Yes' or 'No'\n",
    "            answer = \"Yes\" if predicted_class_idx == 1 else \"No\"\n",
    "\n",
    "            return answer\n",
    "\n",
    "        except Exception as e:\n",
    "            print(f\"Error during inference: {e}\")\n",
    "            return None"
   ]
  },
  {
   "cell_type": "code",
   "execution_count": null,
   "id": "e7c7066e-fae6-4a77-8398-dfe493ee01f3",
   "metadata": {},
   "outputs": [],
   "source": [
    "if __name__ == \"__main__\":\n",
    "    model_path = \"fine-tuned-vilt-model\"\n",
    "    image_path = \"image.jpg\"\n",
    "    question = \"Is there any abnormality in the left lung?\"\n",
    "\n",
    "    # Initialize the inference module\n",
    "    vilt_inference = ViLTInference(model_path)\n",
    "\n",
    "    # Perform inference\n",
    "    result = vilt_inference.predict(image_path, question)\n",
    "\n",
    "    # Display the result\n",
    "    if result is not None:\n",
    "        print(f\"Predicted Answer: {result}\")"
   ]
  }
 ],
 "metadata": {
  "kernelspec": {
   "display_name": "Python 3 (ipykernel)",
   "language": "python",
   "name": "python3"
  },
  "language_info": {
   "codemirror_mode": {
    "name": "ipython",
    "version": 3
   },
   "file_extension": ".py",
   "mimetype": "text/x-python",
   "name": "python",
   "nbconvert_exporter": "python",
   "pygments_lexer": "ipython3",
   "version": "3.11.7"
  }
 },
 "nbformat": 4,
 "nbformat_minor": 5
}
